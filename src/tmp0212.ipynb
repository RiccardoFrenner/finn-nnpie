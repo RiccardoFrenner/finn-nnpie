{
 "cells": [
  {
   "cell_type": "code",
   "execution_count": 4,
   "metadata": {},
   "outputs": [],
   "source": [
    "import sys\n",
    "\n",
    "sys.path.append(\"../src\")"
   ]
  },
  {
   "cell_type": "code",
   "execution_count": 5,
   "metadata": {},
   "outputs": [
    {
     "data": {
      "text/plain": [
       "<module 'lib' from '/Users/r/Documents/stud/ss24/finnpinn/src/lib.py'>"
      ]
     },
     "execution_count": 5,
     "metadata": {},
     "output_type": "execute_result"
    }
   ],
   "source": [
    "import importlib\n",
    "from pathlib import Path\n",
    "\n",
    "import numpy as np\n",
    "\n",
    "import lib\n",
    "\n",
    "importlib.reload(lib)"
   ]
  },
  {
   "cell_type": "code",
   "execution_count": 6,
   "metadata": {},
   "outputs": [
    {
     "name": "stderr",
     "output_type": "stream",
     "text": [
      "100%|██████████| 10000/10000 [4:12:24<00:00,  1.51s/it] \n"
     ]
    }
   ],
   "source": [
    "import tqdm\n",
    "\n",
    "mcmc_samples = lib.ExperimentalSamples.from_dir(\"../data_processed/experimental/MCMC/\")\n",
    "mcmc_samples.core1 = []\n",
    "mcmc_samples.core2b = []\n",
    "for ret in tqdm.tqdm(mcmc_samples.ret_y):\n",
    "    mcmc_samples.core1.append(lib.compute_core1_btc(mcmc_samples.ret_x, ret))\n",
    "    mcmc_samples.core2b.append(lib.compute_core2B_profile_simple(mcmc_samples.ret_x, ret))\n",
    "\n",
    "mcmc_samples.core1 = np.array(mcmc_samples.core1)\n",
    "mcmc_samples.core2b = np.array(mcmc_samples.core2b)"
   ]
  },
  {
   "cell_type": "code",
   "execution_count": 7,
   "metadata": {},
   "outputs": [
    {
     "name": "stdout",
     "output_type": "stream",
     "text": [
      "(10000, 50)\n",
      "(10000, 21)\n"
     ]
    }
   ],
   "source": [
    "print(mcmc_samples.core1.shape)\n",
    "print(mcmc_samples.core2b.shape)"
   ]
  },
  {
   "cell_type": "code",
   "execution_count": null,
   "metadata": {},
   "outputs": [],
   "source": [
    "# mcmc_samples.to_dir(\"../data_processed/experimental/MCMC/\")"
   ]
  }
 ],
 "metadata": {
  "kernelspec": {
   "display_name": "p3inn",
   "language": "python",
   "name": "python3"
  },
  "language_info": {
   "codemirror_mode": {
    "name": "ipython",
    "version": 3
   },
   "file_extension": ".py",
   "mimetype": "text/x-python",
   "name": "python",
   "nbconvert_exporter": "python",
   "pygments_lexer": "ipython3",
   "version": "3.11.3"
  }
 },
 "nbformat": 4,
 "nbformat_minor": 2
}
