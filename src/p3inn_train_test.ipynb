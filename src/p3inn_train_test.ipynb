{
 "cells": [
  {
   "cell_type": "code",
   "execution_count": 1,
   "metadata": {},
   "outputs": [],
   "source": [
    "import numpy as np\n",
    "import matplotlib.pyplot as plt\n",
    "import keras\n",
    "import keras_tuner\n",
    "\n",
    "from sklearn.preprocessing import StandardScaler, MinMaxScaler"
   ]
  },
  {
   "cell_type": "code",
   "execution_count": 2,
   "metadata": {},
   "outputs": [
    {
     "data": {
      "image/png": "[encoded data removed]",
      "text/plain": [
       "<Figure size 640x480 with 1 Axes>"
      ]
     },
     "metadata": {},
     "output_type": "display_data"
    }
   ],
   "source": [
    "# Load data from .npy files\n",
    "x = np.load(\"../data_out/p3inn/core2/x_data.npy\")\n",
    "y = np.load(\"../data_out/p3inn/core2/y_data.npy\")\n",
    "\n",
    "# Reshape x if it's 1D to ensure it's a column vector\n",
    "if x.ndim == 1:\n",
    "    x = x.reshape(-1, 1)\n",
    "\n",
    "x_train = x.copy()\n",
    "y_train = y.copy()\n",
    "\n",
    "# Normalize data\n",
    "scaler_x = MinMaxScaler()\n",
    "x_train = scaler_x.fit_transform(x_train)\n",
    "\n",
    "scaler_y = StandardScaler()\n",
    "y_train = scaler_y.fit_transform(y_train.reshape(-1, 1)).flatten()\n",
    "\n",
    "del scaler_x\n",
    "del scaler_y\n",
    "\n",
    "plt.plot(x_train, y_train, \".\")\n",
    "plt.show()"
   ]
  },
  {
   "cell_type": "code",
   "execution_count": 3,
   "metadata": {},
   "outputs": [
    {
     "name": "stdout",
     "output_type": "stream",
     "text": [
      "Reloading Tuner from ../data_out/hypertuning/p3inn_core2/hyperband#tanh:lr_optimizer_schedule/tuner0.json\n",
      "None\n",
      "Search space summary\n",
      "Default search space size: 10\n",
      "n_hidden1 (Int)\n",
      "{'default': None, 'conditions': [], 'min_value': 16, 'max_value': 256, 'step': 16, 'sampling': 'linear'}\n",
      "extra_hidden (Boolean)\n",
      "{'default': False, 'conditions': []}\n",
      "initial_learning_rate (Float)\n",
      "{'default': 0.005, 'conditions': [], 'min_value': 0.005, 'max_value': 0.1, 'step': None, 'sampling': 'log'}\n",
      "scheduler (Choice)\n",
      "{'default': 'cosine', 'conditions': [], 'values': ['cosine', 'expo'], 'ordered': False}\n",
      "first_decay_steps (Choice)\n",
      "{'default': 30, 'conditions': [], 'values': [30, 100], 'ordered': True}\n",
      "optimizer (Choice)\n",
      "{'default': 'adamw', 'conditions': [], 'values': ['adamw', 'adam'], 'ordered': False}\n",
      "batch_size (Int)\n",
      "{'default': None, 'conditions': [], 'min_value': 8, 'max_value': 64, 'step': 8, 'sampling': 'linear'}\n",
      "decay_steps (Choice)\n",
      "{'default': 10, 'conditions': [], 'values': [10, 60], 'ordered': True}\n",
      "decay_rate (Choice)\n",
      "{'default': 0.98, 'conditions': [], 'values': [0.98, 0.8], 'ordered': True}\n",
      "n_hidden2 (Int)\n",
      "{'default': None, 'conditions': [], 'min_value': 16, 'max_value': 256, 'step': 16, 'sampling': 'linear'}\n"
     ]
    }
   ],
   "source": [
    "class MyHyperModel(keras_tuner.HyperModel):\n",
    "    def build(self, hp: keras_tuner.HyperParameters):\n",
    "        model = keras.Sequential(\n",
    "            [\n",
    "                keras.Input(shape=(1,)),\n",
    "                # keras.layers.BatchNormalization(),\n",
    "                keras.layers.Dense(hp.Int(\"n_hidden1\", 16, 256, 16), activation=\"tanh\"),\n",
    "                \n",
    "            ]\n",
    "        )\n",
    "        if hp.Boolean(\"extra_hidden\", False):\n",
    "            model.add(\n",
    "                keras.layers.Dense(hp.Int(\"n_hidden2\", 16, 256, 16), activation=\"tanh\")\n",
    "            )\n",
    "        model.add(\n",
    "            keras.layers.Dense(1)\n",
    "        )\n",
    "\n",
    "        # good adam values: 0.06 (min: 0.02, max: 0.1)\n",
    "        initial_learning_rate = hp.Float(\n",
    "            \"initial_learning_rate\", min_value=0.005, max_value=0.1, sampling=\"log\"\n",
    "        )\n",
    "        scheduler = hp.Choice(\"scheduler\", [\"cosine\", \"expo\"])\n",
    "        if scheduler == \"cosine\":\n",
    "            learning_rate = keras.optimizers.schedules.CosineDecayRestarts(\n",
    "                initial_learning_rate,\n",
    "                first_decay_steps=hp.Choice(\"first_decay_steps\", [30, 100]),\n",
    "            )\n",
    "        elif scheduler == \"expo\":\n",
    "            learning_rate = keras.optimizers.schedules.ExponentialDecay(\n",
    "                initial_learning_rate,\n",
    "                decay_steps=hp.Choice(\"decay_steps\", [10, 60]),\n",
    "                decay_rate=hp.Choice(\"decay_rate\", [0.98, 0.8]),\n",
    "                staircase=True,\n",
    "            )\n",
    "        else:\n",
    "            raise ValueError(f\"Unknown schedule: {scheduler}\")\n",
    "        # learning_rate = initial_learning_rate\n",
    "\n",
    "        optimizer_choice = hp.Choice(\"optimizer\", [\"adamw\", \"adam\"])\n",
    "        if optimizer_choice == \"adam\":\n",
    "            optimizer = keras.optimizers.Adam(learning_rate=learning_rate)\n",
    "        elif optimizer_choice == \"adamw\":\n",
    "            optimizer = keras.optimizers.AdamW(learning_rate=learning_rate)\n",
    "        else:\n",
    "            raise ValueError(f\"Unknown optimizer: {optimizer_choice}\")\n",
    "\n",
    "        model.compile(optimizer=optimizer, loss=\"mse\")\n",
    "\n",
    "        return model\n",
    "\n",
    "\n",
    "    def fit(self, hp, model, *args, **kwargs):\n",
    "        return model.fit(\n",
    "            *args,\n",
    "            batch_size=hp.Int('batch_size', min_value=8, max_value=64, step=8),\n",
    "            **kwargs,\n",
    "        )\n",
    "\n",
    "# tuner = keras_tuner.RandomSearch(\n",
    "#     MyHyperModel(),\n",
    "#     objective=\"loss\",\n",
    "#     max_trials=100,  # Number of hyperparameter combinations to try\n",
    "#     executions_per_trial=1,  # Increase if you want to average multiple runs per trial\n",
    "#     directory=\"../data_out/hypertuning/p3inn_core2\",  # Where to save tuning results\n",
    "#     project_name=\"relu:lr_optimizer_schedule\",\n",
    "#     # overwrite=True,\n",
    "# )\n",
    "tuner = keras_tuner.Hyperband(\n",
    "    MyHyperModel(),\n",
    "    objective=\"loss\",\n",
    "    max_epochs=500,\n",
    "    factor=3,\n",
    "    hyperband_iterations=3,\n",
    "    executions_per_trial=4,  # Increase if you want to average multiple runs per trial\n",
    "    directory=\"../data_out/hypertuning/p3inn_core2\",  # Where to save tuning results\n",
    "    project_name=\"hyperband#tanh:lr_optimizer_schedule\",\n",
    "    # overwrite=True,\n",
    ")\n",
    "print(tuner.remaining_trials)\n",
    "tuner.search_space_summary()"
   ]
  },
  {
   "cell_type": "code",
   "execution_count": 4,
   "metadata": {},
   "outputs": [],
   "source": [
    "# 0.088826\t16\tadamw\t0\t0.007814\n",
    "\n",
    "# best loss so far: 0.005 (with adam, lr=0.06)\n",
    "# but I need at least 0.001\n",
    "# so min_delta of     0.0001 seems good\n",
    "EARLY_STOPPING_PARAMS = dict(monitor=\"loss\", patience=150, min_delta=0.0001)\n",
    "TRAINING_PARAMS = dict(\n",
    "    # epochs=1000,\n",
    "    validation_split=0.2,\n",
    ")"
   ]
  },
  {
   "cell_type": "code",
   "execution_count": null,
   "metadata": {},
   "outputs": [],
   "source": [
    "tuner.search(\n",
    "    x_train,\n",
    "    y_train,\n",
    "    **TRAINING_PARAMS,\n",
    "    callbacks=[keras.callbacks.EarlyStopping(**EARLY_STOPPING_PARAMS)],\n",
    ")\n",
    "\n",
    "best_model = tuner.get_best_models(num_models=1)[0]# 575 trials before bed (best loss=0.00193)\n",
    "!say \"Done\""
   ]
  },
  {
   "cell_type": "code",
   "execution_count": null,
   "metadata": {},
   "outputs": [],
   "source": [
    "for good_hp in tuner.get_best_hyperparameters(num_trials=10):\n",
    "    print(good_hp.values)"
   ]
  },
  {
   "cell_type": "code",
   "execution_count": null,
   "metadata": {},
   "outputs": [],
   "source": [
    "print(tuner.get_best_hyperparameters(1)[0].values)"
   ]
  },
  {
   "cell_type": "code",
   "execution_count": null,
   "metadata": {},
   "outputs": [],
   "source": [
    "best_hyperparameters = tuner.get_best_hyperparameters(num_trials=1)[0]\n",
    "print(best_hyperparameters.values)"
   ]
  },
  {
   "cell_type": "code",
   "execution_count": null,
   "metadata": {},
   "outputs": [],
   "source": [
    "# Train the best model\n",
    "history = best_model.fit(\n",
    "    x_train,\n",
    "    y_train,\n",
    "    **TRAINING_PARAMS,\n",
    "    callbacks=[keras.callbacks.EarlyStopping(**EARLY_STOPPING_PARAMS)],\n",
    ")"
   ]
  },
  {
   "cell_type": "code",
   "execution_count": null,
   "metadata": {},
   "outputs": [],
   "source": [
    "# Plot training history\n",
    "fig, (ax1, ax2) = plt.subplots(ncols=2, figsize=(12, 6))\n",
    "\n",
    "ax1.semilogy(history.history[\"loss\"], label=\"Training Loss\")\n",
    "ax1.semilogy(history.history[\"val_loss\"], label=\"Validation Loss\")\n",
    "ax1.set_xlabel(\"Epoch\")\n",
    "ax1.set_ylabel(\"Loss\")\n",
    "ax1.legend()\n",
    "\n",
    "\n",
    "# Plot learned function and data\n",
    "x_plot = np.linspace(x_train.min(), x_train.max(), 200).reshape(\n",
    "    -1, 1\n",
    ")  # 200 points for smooth curve\n",
    "\n",
    "# x_plot_scaled = scaler_x.transform(x_plot)  # Scale the x values for prediction\n",
    "# y_pred_scaled = best_model.predict(x_plot_scaled)\n",
    "# y_pred = scaler_y.inverse_transform(\n",
    "#     y_pred_scaled\n",
    "# ).flatten()  # Inverse scale predictions\n",
    "\n",
    "x_plot_scaled = x_plot\n",
    "y_pred = best_model.predict(x_plot_scaled)\n",
    "\n",
    "\n",
    "ax2.scatter(x_train, y_train, label=\"Data\")\n",
    "ax2.plot(x_plot, y_pred, color=\"red\", label=\"Learned Function\")\n",
    "ax2.set_xlabel(\"x\")\n",
    "ax2.set_ylabel(\"y\")\n",
    "ax2.legend()\n",
    "plt.show()"
   ]
  },
  {
   "cell_type": "code",
   "execution_count": null,
   "metadata": {},
   "outputs": [],
   "source": [
    "import pandas as pd\n",
    "import plotly.express as px\n",
    "\n",
    "\n",
    "results = []\n",
    "for trial in tuner.oracle.get_best_trials(100):\n",
    "    hps = trial.hyperparameters.values\n",
    "    hps['score'] = trial.score\n",
    "    results.append(hps)\n",
    "df = pd.DataFrame(results).sort_values(by=\"score\", ignore_index=True)\n",
    "\n",
    "categories = [\"optimizer\", \"scheduler\"]\n",
    "for cat in categories:\n",
    "    df[f\"#{cat}\"] = df[cat].astype(\"category\").cat.codes\n",
    "\n",
    "# Reorder columns to place 'score' last and categories before it\n",
    "other_cols = [col for col in df.columns if col not in categories and col != 'score' and col not in [f\"#{cat}\" for cat in categories]]\n",
    "ordered_cols = other_cols + categories + [f\"#{cat}\" for cat in categories] + ['score']\n",
    "df = df[ordered_cols]\n",
    "\n",
    "# df = df.query(\"optimizer == 'adam'\").drop(\"#optimizer\", axis=1).reset_index(drop=True)\n",
    "df = df.query(\"scheduler == 'cosine'\").drop(\"#scheduler\", axis=1).reset_index(drop=True)\n",
    "display(df)\n",
    "\n",
    "fig = px.parallel_coordinates(df, color=\"score\")\n",
    "fig.show()"
   ]
  }
 ],
 "metadata": {
  "kernelspec": {
   "display_name": "p3inn",
   "language": "python",
   "name": "python3"
  },
  "language_info": {
   "codemirror_mode": {
    "name": "ipython",
    "version": 3
   },
   "file_extension": ".py",
   "mimetype": "text/x-python",
   "name": "python",
   "nbconvert_exporter": "python",
   "pygments_lexer": "ipython3",
   "version": "3.11.3"
  }
 },
 "nbformat": 4,
 "nbformat_minor": 2
}
