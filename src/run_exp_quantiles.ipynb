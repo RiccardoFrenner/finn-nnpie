{
 "cells": [
  {
   "cell_type": "code",
   "execution_count": 1,
   "metadata": {},
   "outputs": [
    {
     "data": {
      "text/plain": [
       "<module 'lib' from '/Users/r/Documents/stud/ss24/finnpinn/src/lib.py'>"
      ]
     },
     "execution_count": 1,
     "metadata": {},
     "output_type": "execute_result"
    }
   ],
   "source": [
    "import shutil\n",
    "import importlib\n",
    "from pathlib import Path\n",
    "\n",
    "import torch\n",
    "import numpy as np\n",
    "import matplotlib.pyplot as plt\n",
    "\n",
    "import lib\n",
    "importlib.reload(lib)"
   ]
  },
  {
   "cell_type": "markdown",
   "metadata": {},
   "source": [
    "# Run"
   ]
  },
  {
   "cell_type": "code",
   "execution_count": 2,
   "metadata": {},
   "outputs": [],
   "source": [
    "data_out_root = Path(\"../data_out\").resolve()\n",
    "assert data_out_root.exists()\n",
    "pi3nn_root = data_out_root / \"p3inn\"\n",
    "finn_root = data_out_root / \"finn\"\n",
    "pi3nn_root.mkdir(exist_ok=True, parents=True)\n",
    "finn_root.mkdir(exist_ok=True, parents=True)"
   ]
  },
  {
   "cell_type": "code",
   "execution_count": 3,
   "metadata": {},
   "outputs": [
    {
     "data": {
      "text/html": [
       "<div>\n",
       "<style scoped>\n",
       "    .dataframe tbody tr th:only-of-type {\n",
       "        vertical-align: middle;\n",
       "    }\n",
       "\n",
       "    .dataframe tbody tr th {\n",
       "        vertical-align: top;\n",
       "    }\n",
       "\n",
       "    .dataframe thead th {\n",
       "        text-align: right;\n",
       "    }\n",
       "</style>\n",
       "<table border=\"1\" class=\"dataframe\">\n",
       "  <thead>\n",
       "    <tr style=\"text-align: right;\">\n",
       "      <th></th>\n",
       "      <th>time</th>\n",
       "      <th>c_diss</th>\n",
       "    </tr>\n",
       "  </thead>\n",
       "  <tbody>\n",
       "    <tr>\n",
       "      <th>0</th>\n",
       "      <td>0.000000</td>\n",
       "      <td>0.000000</td>\n",
       "    </tr>\n",
       "    <tr>\n",
       "      <th>1</th>\n",
       "      <td>0.838329</td>\n",
       "      <td>0.000096</td>\n",
       "    </tr>\n",
       "    <tr>\n",
       "      <th>2</th>\n",
       "      <td>1.377912</td>\n",
       "      <td>0.000062</td>\n",
       "    </tr>\n",
       "    <tr>\n",
       "      <th>3</th>\n",
       "      <td>1.879996</td>\n",
       "      <td>0.000061</td>\n",
       "    </tr>\n",
       "    <tr>\n",
       "      <th>4</th>\n",
       "      <td>2.379996</td>\n",
       "      <td>0.000052</td>\n",
       "    </tr>\n",
       "  </tbody>\n",
       "</table>\n",
       "</div>"
      ],
      "text/plain": [
       "       time    c_diss\n",
       "0  0.000000  0.000000\n",
       "1  0.838329  0.000096\n",
       "2  1.377912  0.000062\n",
       "3  1.879996  0.000061\n",
       "4  2.379996  0.000052"
      ]
     },
     "metadata": {},
     "output_type": "display_data"
    }
   ],
   "source": [
    "data_core2_df = lib.load_exp_data(name=\"Core 2\")\n",
    "display(data_core2_df.head())"
   ]
  },
  {
   "cell_type": "markdown",
   "metadata": {},
   "source": [
    "### PI3NN on experimental data to obtain PIs for different quantiles"
   ]
  },
  {
   "cell_type": "code",
   "execution_count": 4,
   "metadata": {},
   "outputs": [
    {
     "name": "stdout",
     "output_type": "stream",
     "text": [
      "[0.]\n",
      "[1.]\n",
      "-4.988814676260771 1.9872212012282606\n",
      "-4.988814676260771 1.9872212012282606\n"
     ]
    }
   ],
   "source": [
    "from sklearn.preprocessing import StandardScaler\n",
    "\n",
    "# print(StandardScaler().mean_)\n",
    "# print(StandardScaler().fit([]).mean_)\n",
    "# print(StandardScaler().fit([0.0]).mean_)\n",
    "print(StandardScaler().fit([[0.0]]).mean_)\n",
    "print(StandardScaler().fit([[0.0]]).scale_)\n",
    "\n",
    "s = StandardScaler().fit([[0.0]])\n",
    "\n",
    "data = np.random.uniform(-5, 2, (1000, 1))\n",
    "print(data.min(), data.max())\n",
    "data = s.transform(data)\n",
    "print(data.min(), data.max())"
   ]
  },
  {
   "cell_type": "code",
   "execution_count": 5,
   "metadata": {},
   "outputs": [
    {
     "data": {
      "text/plain": [
       "(10, 1)"
      ]
     },
     "execution_count": 5,
     "metadata": {},
     "output_type": "execute_result"
    }
   ],
   "source": [
    "np.interp(np.random.uniform(size=(10, 1)), np.random.uniform(size=(15, )), np.random.uniform(size=(15, ))).shape"
   ]
  },
  {
   "cell_type": "code",
   "execution_count": 6,
   "metadata": {},
   "outputs": [],
   "source": [
    "# for q, bound_up, bound_down in p3inn_core2_dir.iter_pred_PIs():\n",
    "#     plt.plot(bound_up, \"g-\")\n",
    "#     plt.plot(bound_down, \"r-\")\n",
    "# plt.hlines(0, 0, 10, color=\"k\")\n",
    "# plt.ylim(0,0.001)\n",
    "# plt.xlim(0,10)\n",
    "# plt.show()"
   ]
  },
  {
   "cell_type": "code",
   "execution_count": 7,
   "metadata": {},
   "outputs": [],
   "source": [
    "# x = data_core2_df[\"time\"].to_numpy().squeeze()\n",
    "# plt.figure()\n",
    "# plt.plot(x, data_core2_df[\"c_diss\"], \".\")\n",
    "# plt.plot(x, net_mean(x), \"x\")\n",
    "# res = data_core2_df[\"c_diss\"].to_numpy().squeeze() - net_mean(x).squeeze()\n",
    "# _, (ax1, ax2) = plt.subplots(ncols=2, figsize=(12, 6))\n",
    "# ax1.plot(x[res>0], res[res>0], \"x\")\n",
    "# ax2.plot(x[res<=0], res[res<=0], \"x\")\n",
    "# plt.show()"
   ]
  },
  {
   "cell_type": "code",
   "execution_count": 8,
   "metadata": {},
   "outputs": [
    {
     "name": "stdout",
     "output_type": "stream",
     "text": [
      "[0.95, 0.9, 0.85, 0.8, 0.75, 0.7, 0.6499999999999999, 0.6, 0.55]\n"
     ]
    },
    {
     "data": {
      "image/png": "[encoded data removed]",
      "text/plain": [
       "<Figure size 640x480 with 1 Axes>"
      ]
     },
     "metadata": {},
     "output_type": "display_data"
    },
    {
     "name": "stdout",
     "output_type": "stream",
     "text": [
      "Defining mean fun from passed function\n"
     ]
    },
    {
     "data": {
      "image/png": "[encoded data removed]",
      "text/plain": [
       "<Figure size 640x480 with 1 Axes>"
      ]
     },
     "metadata": {},
     "output_type": "display_data"
    },
    {
     "name": "stdout",
     "output_type": "stream",
     "text": [
      "Defining std NN\n",
      "Defining std NN\n",
      "Training UP Network\n",
      "Epoch      1, Train Loss: 1.02e+01, Validation Loss: 1.87e+01\n",
      "Epoch   1000, Train Loss: 9.79e-01, Validation Loss: 5.04e-01\n",
      "Epoch   2000, Train Loss: 9.76e-01, Validation Loss: 4.90e-01\n",
      "Epoch   3000, Train Loss: 9.74e-01, Validation Loss: 4.76e-01\n",
      "Epoch   4000, Train Loss: 9.60e-01, Validation Loss: 4.17e-01\n",
      "Epoch   5000, Train Loss: 9.02e-01, Validation Loss: 3.51e-01\n",
      "Epoch   6000, Train Loss: 8.86e-01, Validation Loss: 3.84e-01\n",
      "Epoch   7000, Train Loss: 8.77e-01, Validation Loss: 3.50e-01\n",
      "Epoch   8000, Train Loss: 8.71e-01, Validation Loss: 3.67e-01\n",
      "Epoch   9000, Train Loss: 8.67e-01, Validation Loss: 3.42e-01\n",
      "Epoch  10000, Train Loss: 8.66e-01, Validation Loss: 3.53e-01\n",
      "Training DOWN Network\n",
      "Epoch      1, Train Loss: 1.00e+01, Validation Loss: 7.76e+00\n",
      "Epoch   1000, Train Loss: 9.77e-01, Validation Loss: 8.97e-01\n",
      "Epoch   2000, Train Loss: 9.75e-01, Validation Loss: 9.17e-01\n",
      "Epoch   3000, Train Loss: 9.75e-01, Validation Loss: 9.45e-01\n",
      "Epoch   4000, Train Loss: 9.73e-01, Validation Loss: 9.06e-01\n",
      "Epoch   5000, Train Loss: 9.73e-01, Validation Loss: 9.14e-01\n",
      "Epoch   6000, Train Loss: 9.72e-01, Validation Loss: 9.06e-01\n",
      "Epoch   7000, Train Loss: 9.70e-01, Validation Loss: 9.74e-01\n",
      "Epoch   8000, Train Loss: 9.69e-01, Validation Loss: 9.92e-01\n",
      "Epoch   9000, Train Loss: 9.72e-01, Validation Loss: 9.50e-01\n",
      "Epoch  10000, Train Loss: 9.66e-01, Validation Loss: 9.63e-01\n",
      "Training Done!\n",
      "Before network call\n"
     ]
    },
    {
     "ename": "RuntimeError",
     "evalue": "Can't call numpy() on Tensor that requires grad. Use tensor.detach().numpy() instead.",
     "output_type": "error",
     "traceback": [
      "\u001b[0;31m---------------------------------------------------------------------------\u001b[0m",
      "\u001b[0;31mRuntimeError\u001b[0m                              Traceback (most recent call last)",
      "Cell \u001b[0;32mIn[8], line 18\u001b[0m\n\u001b[1;32m     15\u001b[0m     y \u001b[38;5;241m=\u001b[39m np\u001b[38;5;241m.\u001b[39minterp(x, xp, fp)\u001b[38;5;241m.\u001b[39mreshape(\u001b[38;5;241m-\u001b[39m\u001b[38;5;241m1\u001b[39m, \u001b[38;5;241m1\u001b[39m)\n\u001b[1;32m     16\u001b[0m     \u001b[38;5;28;01mreturn\u001b[39;00m y\n\u001b[0;32m---> 18\u001b[0m \u001b[43mlib\u001b[49m\u001b[38;5;241;43m.\u001b[39;49m\u001b[43mpi3nn_compute_PI_and_mean\u001b[49m\u001b[43m(\u001b[49m\n\u001b[1;32m     19\u001b[0m \u001b[43m    \u001b[49m\u001b[43mout_dir\u001b[49m\u001b[38;5;241;43m=\u001b[39;49m\u001b[43mp3inn_core2_dir\u001b[49m\u001b[38;5;241;43m.\u001b[39;49m\u001b[43mpath\u001b[49m\u001b[43m,\u001b[49m\n\u001b[1;32m     20\u001b[0m \u001b[43m    \u001b[49m\u001b[43mquantiles\u001b[49m\u001b[38;5;241;43m=\u001b[39;49m\u001b[43mquantiles\u001b[49m\u001b[43m,\u001b[49m\n\u001b[1;32m     21\u001b[0m \u001b[43m    \u001b[49m\u001b[43mvisualize\u001b[49m\u001b[38;5;241;43m=\u001b[39;49m\u001b[38;5;28;43;01mTrue\u001b[39;49;00m\u001b[43m,\u001b[49m\n\u001b[1;32m     22\u001b[0m \u001b[43m    \u001b[49m\u001b[43mpassed_net_mean\u001b[49m\u001b[38;5;241;43m=\u001b[39;49m\u001b[43mnet_mean\u001b[49m\u001b[43m,\u001b[49m\n\u001b[1;32m     23\u001b[0m \u001b[43m    \u001b[49m\u001b[43mmax_iter\u001b[49m\u001b[38;5;241;43m=\u001b[39;49m\u001b[38;5;241;43m10000\u001b[39;49m\u001b[43m,\u001b[49m\n\u001b[1;32m     24\u001b[0m \u001b[43m    \u001b[49m\u001b[43mload_from_dir\u001b[49m\u001b[38;5;241;43m=\u001b[39;49m\u001b[38;5;28;43;01mFalse\u001b[39;49;00m\u001b[43m,\u001b[49m\n\u001b[1;32m     25\u001b[0m \u001b[43m)\u001b[49m\n\u001b[1;32m     26\u001b[0m plt\u001b[38;5;241m.\u001b[39mshow()\n\u001b[1;32m     27\u001b[0m \u001b[38;5;28;01mraise\u001b[39;00m \u001b[38;5;167;01mValueError\u001b[39;00m(\u001b[38;5;124m\"\u001b[39m\u001b[38;5;124m\"\u001b[39m)\n",
      "File \u001b[0;32m~/Documents/stud/ss24/finnpinn/src/lib_p3inn.py:815\u001b[0m, in \u001b[0;36mpi3nn_compute_PI_and_mean\u001b[0;34m(out_dir, quantiles, x_data_path, y_data_path, seed, visualize, passed_net_mean, max_iter, load_from_dir)\u001b[0m\n\u001b[1;32m    799\u001b[0m \u001b[38;5;66;03m# Initialize trainer and conduct training/optimizations\u001b[39;00m\n\u001b[1;32m    800\u001b[0m trainer \u001b[38;5;241m=\u001b[39m CL_trainer(\n\u001b[1;32m    801\u001b[0m     configs\u001b[38;5;241m=\u001b[39mconfigs,\n\u001b[1;32m    802\u001b[0m     net_mean\u001b[38;5;241m=\u001b[39mnet_mean,\n\u001b[0;32m   (...)\u001b[0m\n\u001b[1;32m    813\u001b[0m     decay_steps\u001b[38;5;241m=\u001b[39mDECAY_STEPS,\n\u001b[1;32m    814\u001b[0m )\n\u001b[0;32m--> 815\u001b[0m \u001b[43mtrainer\u001b[49m\u001b[38;5;241;43m.\u001b[39;49m\u001b[43mtrain\u001b[49m\u001b[43m(\u001b[49m\u001b[43mtrain_mean\u001b[49m\u001b[38;5;241;43m=\u001b[39;49m\u001b[43mtrain_mean_net\u001b[49m\u001b[43m,\u001b[49m\u001b[43m \u001b[49m\u001b[43mtrain_stds\u001b[49m\u001b[38;5;241;43m=\u001b[39;49m\u001b[43mtrain_stds\u001b[49m\u001b[43m)\u001b[49m\n\u001b[1;32m    817\u001b[0m networks \u001b[38;5;241m=\u001b[39m trainer\u001b[38;5;241m.\u001b[39mnetworks\n\u001b[1;32m    819\u001b[0m \u001b[38;5;28;01mdef\u001b[39;00m \u001b[38;5;21mevalnetworks\u001b[39m(x, as_numpy: \u001b[38;5;28mbool\u001b[39m \u001b[38;5;241m=\u001b[39m \u001b[38;5;28;01mFalse\u001b[39;00m) \u001b[38;5;241m-\u001b[39m\u001b[38;5;241m>\u001b[39m \u001b[38;5;28mdict\u001b[39m[\u001b[38;5;28mstr\u001b[39m, Any]:\n",
      "File \u001b[0;32m~/Documents/stud/ss24/finnpinn/src/lib_p3inn.py:402\u001b[0m, in \u001b[0;36mCL_trainer.train\u001b[0;34m(self, train_mean, train_stds)\u001b[0m\n\u001b[1;32m    396\u001b[0m axs[\u001b[38;5;241m0\u001b[39m]\u001b[38;5;241m.\u001b[39msemilogy(\n\u001b[1;32m    397\u001b[0m     data_train_up[\u001b[38;5;241m0\u001b[39m]\u001b[38;5;241m.\u001b[39mdetach()\u001b[38;5;241m.\u001b[39mnumpy(),\n\u001b[1;32m    398\u001b[0m     data_train_up[\u001b[38;5;241m1\u001b[39m]\u001b[38;5;241m.\u001b[39mdetach()\u001b[38;5;241m.\u001b[39mnumpy(),\n\u001b[1;32m    399\u001b[0m     \u001b[38;5;124m\"\u001b[39m\u001b[38;5;124m.\u001b[39m\u001b[38;5;124m\"\u001b[39m,\n\u001b[1;32m    400\u001b[0m )\n\u001b[1;32m    401\u001b[0m \u001b[38;5;28mprint\u001b[39m(\u001b[38;5;124m\"\u001b[39m\u001b[38;5;124mBefore network call\u001b[39m\u001b[38;5;124m\"\u001b[39m)\n\u001b[0;32m--> 402\u001b[0m \u001b[38;5;28;43mself\u001b[39;49m\u001b[38;5;241;43m.\u001b[39;49m\u001b[43mnetworks\u001b[49m\u001b[43m[\u001b[49m\u001b[38;5;124;43m\"\u001b[39;49m\u001b[38;5;124;43mup\u001b[39;49m\u001b[38;5;124;43m\"\u001b[39;49m\u001b[43m]\u001b[49m\u001b[43m(\u001b[49m\u001b[43mx_up\u001b[49m\u001b[43m)\u001b[49m\n\u001b[1;32m    403\u001b[0m \u001b[38;5;28mprint\u001b[39m(\u001b[38;5;124m\"\u001b[39m\u001b[38;5;124m---\u001b[39m\u001b[38;5;124m\"\u001b[39m)\n\u001b[1;32m    404\u001b[0m axs[\u001b[38;5;241m0\u001b[39m]\u001b[38;5;241m.\u001b[39msemilogy(\n\u001b[1;32m    405\u001b[0m     x_up, \u001b[38;5;28mself\u001b[39m\u001b[38;5;241m.\u001b[39mnetworks[\u001b[38;5;124m\"\u001b[39m\u001b[38;5;124mup\u001b[39m\u001b[38;5;124m\"\u001b[39m](x_up)\u001b[38;5;241m.\u001b[39mdetach()\u001b[38;5;241m.\u001b[39mnumpy(), \u001b[38;5;124m\"\u001b[39m\u001b[38;5;124m-\u001b[39m\u001b[38;5;124m\"\u001b[39m\n\u001b[1;32m    406\u001b[0m )\n",
      "File \u001b[0;32m~/Documents/stud/ss24/finnpinn/src/lib_p3inn.py:289\u001b[0m, in \u001b[0;36mCL_trainer.train.<locals>.make_non_transformed_fun.<locals>.non_trafo_f\u001b[0;34m(x_non_scaled)\u001b[0m\n\u001b[1;32m    287\u001b[0m x_scaled \u001b[38;5;241m=\u001b[39m torch\u001b[38;5;241m.\u001b[39mFloatTensor(x_scaler\u001b[38;5;241m.\u001b[39mtransform(x_non_scaled))\n\u001b[1;32m    288\u001b[0m y_scaled \u001b[38;5;241m=\u001b[39m fun(x_scaled)\n\u001b[0;32m--> 289\u001b[0m y_unscaled \u001b[38;5;241m=\u001b[39m \u001b[43my_scaler\u001b[49m\u001b[38;5;241;43m.\u001b[39;49m\u001b[43minverse_transform\u001b[49m\u001b[43m(\u001b[49m\u001b[43my_scaled\u001b[49m\u001b[43m)\u001b[49m\n\u001b[1;32m    290\u001b[0m \u001b[38;5;28;01mreturn\u001b[39;00m torch\u001b[38;5;241m.\u001b[39mFloatTensor(y_unscaled)\n",
      "File \u001b[0;32m~/.venvs/p3inn/lib/python3.11/site-packages/sklearn/preprocessing/_data.py:1085\u001b[0m, in \u001b[0;36mStandardScaler.inverse_transform\u001b[0;34m(self, X, copy)\u001b[0m\n\u001b[1;32m   1082\u001b[0m check_is_fitted(\u001b[38;5;28mself\u001b[39m)\n\u001b[1;32m   1084\u001b[0m copy \u001b[38;5;241m=\u001b[39m copy \u001b[38;5;28;01mif\u001b[39;00m copy \u001b[38;5;129;01mis\u001b[39;00m \u001b[38;5;129;01mnot\u001b[39;00m \u001b[38;5;28;01mNone\u001b[39;00m \u001b[38;5;28;01melse\u001b[39;00m \u001b[38;5;28mself\u001b[39m\u001b[38;5;241m.\u001b[39mcopy\n\u001b[0;32m-> 1085\u001b[0m X \u001b[38;5;241m=\u001b[39m \u001b[43mcheck_array\u001b[49m\u001b[43m(\u001b[49m\n\u001b[1;32m   1086\u001b[0m \u001b[43m    \u001b[49m\u001b[43mX\u001b[49m\u001b[43m,\u001b[49m\n\u001b[1;32m   1087\u001b[0m \u001b[43m    \u001b[49m\u001b[43maccept_sparse\u001b[49m\u001b[38;5;241;43m=\u001b[39;49m\u001b[38;5;124;43m\"\u001b[39;49m\u001b[38;5;124;43mcsr\u001b[39;49m\u001b[38;5;124;43m\"\u001b[39;49m\u001b[43m,\u001b[49m\n\u001b[1;32m   1088\u001b[0m \u001b[43m    \u001b[49m\u001b[43mcopy\u001b[49m\u001b[38;5;241;43m=\u001b[39;49m\u001b[43mcopy\u001b[49m\u001b[43m,\u001b[49m\n\u001b[1;32m   1089\u001b[0m \u001b[43m    \u001b[49m\u001b[43mdtype\u001b[49m\u001b[38;5;241;43m=\u001b[39;49m\u001b[43mFLOAT_DTYPES\u001b[49m\u001b[43m,\u001b[49m\n\u001b[1;32m   1090\u001b[0m \u001b[43m    \u001b[49m\u001b[43mforce_all_finite\u001b[49m\u001b[38;5;241;43m=\u001b[39;49m\u001b[38;5;124;43m\"\u001b[39;49m\u001b[38;5;124;43mallow-nan\u001b[39;49m\u001b[38;5;124;43m\"\u001b[39;49m\u001b[43m,\u001b[49m\n\u001b[1;32m   1091\u001b[0m \u001b[43m\u001b[49m\u001b[43m)\u001b[49m\n\u001b[1;32m   1093\u001b[0m \u001b[38;5;28;01mif\u001b[39;00m sparse\u001b[38;5;241m.\u001b[39missparse(X):\n\u001b[1;32m   1094\u001b[0m     \u001b[38;5;28;01mif\u001b[39;00m \u001b[38;5;28mself\u001b[39m\u001b[38;5;241m.\u001b[39mwith_mean:\n",
      "File \u001b[0;32m~/.venvs/p3inn/lib/python3.11/site-packages/sklearn/utils/validation.py:997\u001b[0m, in \u001b[0;36mcheck_array\u001b[0;34m(array, accept_sparse, accept_large_sparse, dtype, order, copy, force_all_finite, ensure_2d, allow_nd, ensure_min_samples, ensure_min_features, estimator, input_name)\u001b[0m\n\u001b[1;32m    995\u001b[0m         array \u001b[38;5;241m=\u001b[39m xp\u001b[38;5;241m.\u001b[39mastype(array, dtype, copy\u001b[38;5;241m=\u001b[39m\u001b[38;5;28;01mFalse\u001b[39;00m)\n\u001b[1;32m    996\u001b[0m     \u001b[38;5;28;01melse\u001b[39;00m:\n\u001b[0;32m--> 997\u001b[0m         array \u001b[38;5;241m=\u001b[39m \u001b[43m_asarray_with_order\u001b[49m\u001b[43m(\u001b[49m\u001b[43marray\u001b[49m\u001b[43m,\u001b[49m\u001b[43m \u001b[49m\u001b[43morder\u001b[49m\u001b[38;5;241;43m=\u001b[39;49m\u001b[43morder\u001b[49m\u001b[43m,\u001b[49m\u001b[43m \u001b[49m\u001b[43mdtype\u001b[49m\u001b[38;5;241;43m=\u001b[39;49m\u001b[43mdtype\u001b[49m\u001b[43m,\u001b[49m\u001b[43m \u001b[49m\u001b[43mxp\u001b[49m\u001b[38;5;241;43m=\u001b[39;49m\u001b[43mxp\u001b[49m\u001b[43m)\u001b[49m\n\u001b[1;32m    998\u001b[0m \u001b[38;5;28;01mexcept\u001b[39;00m ComplexWarning \u001b[38;5;28;01mas\u001b[39;00m complex_warning:\n\u001b[1;32m    999\u001b[0m     \u001b[38;5;28;01mraise\u001b[39;00m \u001b[38;5;167;01mValueError\u001b[39;00m(\n\u001b[1;32m   1000\u001b[0m         \u001b[38;5;124m\"\u001b[39m\u001b[38;5;124mComplex data not supported\u001b[39m\u001b[38;5;130;01m\\n\u001b[39;00m\u001b[38;5;132;01m{}\u001b[39;00m\u001b[38;5;130;01m\\n\u001b[39;00m\u001b[38;5;124m\"\u001b[39m\u001b[38;5;241m.\u001b[39mformat(array)\n\u001b[1;32m   1001\u001b[0m     ) \u001b[38;5;28;01mfrom\u001b[39;00m \u001b[38;5;21;01mcomplex_warning\u001b[39;00m\n",
      "File \u001b[0;32m~/.venvs/p3inn/lib/python3.11/site-packages/sklearn/utils/_array_api.py:521\u001b[0m, in \u001b[0;36m_asarray_with_order\u001b[0;34m(array, dtype, order, copy, xp)\u001b[0m\n\u001b[1;32m    519\u001b[0m     array \u001b[38;5;241m=\u001b[39m numpy\u001b[38;5;241m.\u001b[39marray(array, order\u001b[38;5;241m=\u001b[39morder, dtype\u001b[38;5;241m=\u001b[39mdtype)\n\u001b[1;32m    520\u001b[0m \u001b[38;5;28;01melse\u001b[39;00m:\n\u001b[0;32m--> 521\u001b[0m     array \u001b[38;5;241m=\u001b[39m numpy\u001b[38;5;241m.\u001b[39masarray(array, order\u001b[38;5;241m=\u001b[39morder, dtype\u001b[38;5;241m=\u001b[39mdtype)\n\u001b[1;32m    523\u001b[0m \u001b[38;5;66;03m# At this point array is a NumPy ndarray. We convert it to an array\u001b[39;00m\n\u001b[1;32m    524\u001b[0m \u001b[38;5;66;03m# container that is consistent with the input's namespace.\u001b[39;00m\n\u001b[1;32m    525\u001b[0m \u001b[38;5;28;01mreturn\u001b[39;00m xp\u001b[38;5;241m.\u001b[39masarray(array)\n",
      "File \u001b[0;32m~/.venvs/p3inn/lib/python3.11/site-packages/torch/_tensor.py:1089\u001b[0m, in \u001b[0;36mTensor.__array__\u001b[0;34m(self, dtype)\u001b[0m\n\u001b[1;32m   1087\u001b[0m     \u001b[38;5;28;01mreturn\u001b[39;00m \u001b[38;5;28mself\u001b[39m\u001b[38;5;241m.\u001b[39mnumpy()\n\u001b[1;32m   1088\u001b[0m \u001b[38;5;28;01melse\u001b[39;00m:\n\u001b[0;32m-> 1089\u001b[0m     \u001b[38;5;28;01mreturn\u001b[39;00m \u001b[38;5;28;43mself\u001b[39;49m\u001b[38;5;241;43m.\u001b[39;49m\u001b[43mnumpy\u001b[49m\u001b[43m(\u001b[49m\u001b[43m)\u001b[49m\u001b[38;5;241m.\u001b[39mastype(dtype, copy\u001b[38;5;241m=\u001b[39m\u001b[38;5;28;01mFalse\u001b[39;00m)\n",
      "\u001b[0;31mRuntimeError\u001b[0m: Can't call numpy() on Tensor that requires grad. Use tensor.detach().numpy() instead."
     ]
    },
    {
     "data": {
      "image/png": "[encoded data removed]",
      "text/plain": [
       "<Figure size 1200x600 with 2 Axes>"
      ]
     },
     "metadata": {},
     "output_type": "display_data"
    }
   ],
   "source": [
    "p3inn_core2_dir = lib.P3innDir(pi3nn_root / \"core2\")\n",
    "shutil.rmtree(p3inn_core2_dir.path.absolute())\n",
    "p3inn_core2_dir = lib.P3innDir(pi3nn_root / \"core2\")\n",
    "np.save(p3inn_core2_dir.x_data_path, data_core2_df[\"time\"].to_numpy().reshape(-1, 1))\n",
    "np.save(p3inn_core2_dir.y_data_path, data_core2_df[\"c_diss\"].to_numpy().reshape(-1, 1))\n",
    "\n",
    "quantiles = [1.0 - 0.05 * i for i in range(1, 10)]\n",
    "print(quantiles)\n",
    "\n",
    "core2_dir = lib.FinnDir(Path(\"../data_out/finn/core2\"))\n",
    "fp = np.load(core2_dir.get_data_pred_path(core2_dir.best_epoch))\n",
    "xp = np.load(core2_dir.t_train_path)\n",
    "\n",
    "def net_mean(x):\n",
    "    y = np.interp(x, xp, fp).reshape(-1, 1)\n",
    "    return y\n",
    "\n",
    "lib.pi3nn_compute_PI_and_mean(\n",
    "    out_dir=p3inn_core2_dir.path,\n",
    "    quantiles=quantiles,\n",
    "    visualize=True,\n",
    "    passed_net_mean=net_mean,\n",
    "    max_iter=10000,\n",
    "    load_from_dir=False,\n",
    ")\n",
    "plt.show()\n",
    "raise ValueError(\"\")"
   ]
  },
  {
   "cell_type": "markdown",
   "metadata": {},
   "source": [
    "### FINN on all quantiles to obtain retardations"
   ]
  },
  {
   "cell_type": "code",
   "execution_count": 6,
   "metadata": {},
   "outputs": [
    {
     "data": {
      "text/plain": [
       "PosixPath('/Users/r/Documents/stud/ss24/finnpinn/data_out/finn/p3inn_core2_new_multiprocessing')"
      ]
     },
     "execution_count": 6,
     "metadata": {},
     "output_type": "execute_result"
    }
   ],
   "source": [
    "finn_exp_root = finn_root / \"p3inn_core2_new_multiprocessing\"\n",
    "finn_exp_root"
   ]
  },
  {
   "cell_type": "code",
   "execution_count": 7,
   "metadata": {},
   "outputs": [
    {
     "data": {
      "text/plain": [
       "{'D': 2.0045664000000002e-05,\n",
       " 'por': 0.288,\n",
       " 'rho_s': 1957.0,\n",
       " 'X': 0.026034999999999996,\n",
       " 'T': 39.824440010000004,\n",
       " 'Nx': 20.0,\n",
       " 'Nt': 55.0,\n",
       " 'sample_radius': 0.02375,\n",
       " 'Q': 0.00010435199999999999,\n",
       " 'solubility': 1.6,\n",
       " 'Dirichlet': 0.0,\n",
       " 'Cauchy': 1.0}"
      ]
     },
     "metadata": {},
     "output_type": "display_data"
    }
   ],
   "source": [
    "conf_core2 = load_exp_conf(name=\"Core 2\")\n",
    "display(conf_core2)"
   ]
  },
  {
   "cell_type": "code",
   "execution_count": 8,
   "metadata": {},
   "outputs": [
    {
     "name": "stdout",
     "output_type": "stream",
     "text": [
      "/Users/r/Documents/stud/ss24/finnpinn/data_out/finn/p3inn_core2_new_multiprocessing/up_0.55\n",
      "/Users/r/Documents/stud/ss24/finnpinn/data_out/finn/p3inn_core2_new_multiprocessing/down_0.55\n",
      "/Users/r/Documents/stud/ss24/finnpinn/data_out/finn/p3inn_core2_new_multiprocessing/up_0.6\n",
      "/Users/r/Documents/stud/ss24/finnpinn/data_out/finn/p3inn_core2_new_multiprocessing/down_0.6\n",
      "/Users/r/Documents/stud/ss24/finnpinn/data_out/finn/p3inn_core2_new_multiprocessing/up_0.65\n",
      "/Users/r/Documents/stud/ss24/finnpinn/data_out/finn/p3inn_core2_new_multiprocessing/down_0.65\n",
      "/Users/r/Documents/stud/ss24/finnpinn/data_out/finn/p3inn_core2_new_multiprocessing/up_0.7\n",
      "/Users/r/Documents/stud/ss24/finnpinn/data_out/finn/p3inn_core2_new_multiprocessing/down_0.7\n",
      "/Users/r/Documents/stud/ss24/finnpinn/data_out/finn/p3inn_core2_new_multiprocessing/up_0.75\n",
      "/Users/r/Documents/stud/ss24/finnpinn/data_out/finn/p3inn_core2_new_multiprocessing/down_0.75\n",
      "/Users/r/Documents/stud/ss24/finnpinn/data_out/finn/p3inn_core2_new_multiprocessing/up_0.8\n",
      "/Users/r/Documents/stud/ss24/finnpinn/data_out/finn/p3inn_core2_new_multiprocessing/down_0.8\n",
      "/Users/r/Documents/stud/ss24/finnpinn/data_out/finn/p3inn_core2_new_multiprocessing/up_0.85\n",
      "/Users/r/Documents/stud/ss24/finnpinn/data_out/finn/p3inn_core2_new_multiprocessing/down_0.85\n",
      "/Users/r/Documents/stud/ss24/finnpinn/data_out/finn/p3inn_core2_new_multiprocessing/up_0.9\n",
      "/Users/r/Documents/stud/ss24/finnpinn/data_out/finn/p3inn_core2_new_multiprocessing/down_0.9\n",
      "/Users/r/Documents/stud/ss24/finnpinn/data_out/finn/p3inn_core2_new_multiprocessing/up_0.95\n",
      "/Users/r/Documents/stud/ss24/finnpinn/data_out/finn/p3inn_core2_new_multiprocessing/down_0.95\n"
     ]
    }
   ],
   "source": [
    "import subprocess\n",
    "from pathlib import Path\n",
    "\n",
    "# Prepare a list of commands to run in parallel\n",
    "commands = []\n",
    "\n",
    "for quantile, bound_up, bound_down in p3inn_core2_dir.iter_pred_PIs():\n",
    "    for bound_type, bound in [(\"up\", bound_up), (\"down\", bound_down)]:\n",
    "        bound_file = Path(\n",
    "            f\"/tmp/bound_{bound_type}_{quantile:g}.npy\"\n",
    "        )  # Save bound data to file\n",
    "        np.save(bound_file, bound)\n",
    "\n",
    "        finn_dir = FinnDir(finn_exp_root / f\"{bound_type}_{quantile:g}\")\n",
    "        print(finn_dir.path.resolve())\n",
    "\n",
    "        command = f\"python3 run_finn_core2.py {finn_dir.path.resolve()} {bound_file}\"\n",
    "        commands.append(command)"
   ]
  },
  {
   "cell_type": "code",
   "execution_count": 9,
   "metadata": {},
   "outputs": [
    {
     "name": "stdout",
     "output_type": "stream",
     "text": [
      "/private/tmp/parallel_commands.txt\n"
     ]
    }
   ],
   "source": [
    "# Write all commands to a temporary file (input for GNU Parallel)\n",
    "commands_file = Path(\"/tmp/parallel_commands.txt\")\n",
    "with open(commands_file, \"w\") as f:\n",
    "    f.write(\"\\n\".join(commands))\n",
    "print(commands_file.resolve())"
   ]
  },
  {
   "cell_type": "code",
   "execution_count": 10,
   "metadata": {},
   "outputs": [
    {
     "name": "stdout",
     "output_type": "stream",
     "text": [
      "cat /tmp/parallel_commands.txt | parallel -j 6 --bar\n"
     ]
    }
   ],
   "source": [
    "command = f\"cat {commands_file} | parallel -j 6 --bar\"\n",
    "# subprocess.run(command, check=True, shell=True)\n",
    "print(command)"
   ]
  },
  {
   "cell_type": "code",
   "execution_count": 13,
   "metadata": {},
   "outputs": [
    {
     "name": "stdout",
     "output_type": "stream",
     "text": [
      "python3 run_finn_core2.py /Users/r/Documents/stud/ss24/finnpinn/data_out/finn/p3inn_core2_new_multiprocessing/up_0.55 /tmp/bound_up_0.55.npy\n",
      "python3 run_finn_core2.py /Users/r/Documents/stud/ss24/finnpinn/data_out/finn/p3inn_core2_new_multiprocessing/down_0.55 /tmp/bound_down_0.55.npy\n",
      "python3 run_finn_core2.py /Users/r/Documents/stud/ss24/finnpinn/data_out/finn/p3inn_core2_new_multiprocessing/up_0.6 /tmp/bound_up_0.6.npy\n",
      "python3 run_finn_core2.py /Users/r/Documents/stud/ss24/finnpinn/data_out/finn/p3inn_core2_new_multiprocessing/down_0.6 /tmp/bound_down_0.6.npy\n",
      "python3 run_finn_core2.py /Users/r/Documents/stud/ss24/finnpinn/data_out/finn/p3inn_core2_new_multiprocessing/up_0.65 /tmp/bound_up_0.65.npy\n",
      "python3 run_finn_core2.py /Users/r/Documents/stud/ss24/finnpinn/data_out/finn/p3inn_core2_new_multiprocessing/down_0.65 /tmp/bound_down_0.65.npy\n",
      "python3 run_finn_core2.py /Users/r/Documents/stud/ss24/finnpinn/data_out/finn/p3inn_core2_new_multiprocessing/up_0.7 /tmp/bound_up_0.7.npy\n",
      "python3 run_finn_core2.py /Users/r/Documents/stud/ss24/finnpinn/data_out/finn/p3inn_core2_new_multiprocessing/down_0.7 /tmp/bound_down_0.7.npy\n",
      "python3 run_finn_core2.py /Users/r/Documents/stud/ss24/finnpinn/data_out/finn/p3inn_core2_new_multiprocessing/up_0.75 /tmp/bound_up_0.75.npy\n",
      "python3 run_finn_core2.py /Users/r/Documents/stud/ss24/finnpinn/data_out/finn/p3inn_core2_new_multiprocessing/down_0.75 /tmp/bound_down_0.75.npy\n",
      "python3 run_finn_core2.py /Users/r/Documents/stud/ss24/finnpinn/data_out/finn/p3inn_core2_new_multiprocessing/up_0.8 /tmp/bound_up_0.8.npy\n",
      "python3 run_finn_core2.py /Users/r/Documents/stud/ss24/finnpinn/data_out/finn/p3inn_core2_new_multiprocessing/down_0.8 /tmp/bound_down_0.8.npy\n",
      "python3 run_finn_core2.py /Users/r/Documents/stud/ss24/finnpinn/data_out/finn/p3inn_core2_new_multiprocessing/up_0.85 /tmp/bound_up_0.85.npy\n",
      "python3 run_finn_core2.py /Users/r/Documents/stud/ss24/finnpinn/data_out/finn/p3inn_core2_new_multiprocessing/down_0.85 /tmp/bound_down_0.85.npy\n",
      "python3 run_finn_core2.py /Users/r/Documents/stud/ss24/finnpinn/data_out/finn/p3inn_core2_new_multiprocessing/up_0.9 /tmp/bound_up_0.9.npy\n",
      "python3 run_finn_core2.py /Users/r/Documents/stud/ss24/finnpinn/data_out/finn/p3inn_core2_new_multiprocessing/down_0.9 /tmp/bound_down_0.9.npy\n",
      "python3 run_finn_core2.py /Users/r/Documents/stud/ss24/finnpinn/data_out/finn/p3inn_core2_new_multiprocessing/up_0.95 /tmp/bound_up_0.95.npy\n",
      "python3 run_finn_core2.py /Users/r/Documents/stud/ss24/finnpinn/data_out/finn/p3inn_core2_new_multiprocessing/down_0.95 /tmp/bound_down_0.95.npy"
     ]
    }
   ],
   "source": [
    "!cat /tmp/parallel_commands.txt"
   ]
  },
  {
   "cell_type": "code",
   "execution_count": 11,
   "metadata": {},
   "outputs": [],
   "source": [
    "!say \"Done\""
   ]
  },
  {
   "cell_type": "code",
   "execution_count": 12,
   "metadata": {},
   "outputs": [],
   "source": [
    "# for quantile, bound_up, bound_down in p3inn_core2_dir.iter_pred_PIs():\n",
    "#     for bound_type, bound in [(\"up\", bound_up), (\"down\", bound_down)]:\n",
    "#         finn_p3inn_core2_dir = FinnDir(finn_exp_root / f\"{bound_type}_{quantile:g}\")\n",
    "#         np.save(finn_p3inn_core2_dir.c_train_path, np.squeeze(bound))\n",
    "#         t = np.linspace(\n",
    "#             data_core2_df[\"time\"].min(), data_core2_df[\"time\"].max(), len(bound)\n",
    "#         )\n",
    "#         np.save(finn_p3inn_core2_dir.t_train_path, t)\n",
    "\n",
    "#         print(f\"{finn_p3inn_core2_dir.path.relative_to(finn_exp_root)}\")\n",
    "#         finn_fit_retardation(\n",
    "#             out_dir=finn_p3inn_core2_dir.path,\n",
    "#             is_exp_data=True,\n",
    "#             n_epochs=21,\n",
    "#             **conf_core2,\n",
    "#         )"
   ]
  }
 ],
 "metadata": {
  "kernelspec": {
   "display_name": "p3inn",
   "language": "python",
   "name": "python3"
  },
  "language_info": {
   "codemirror_mode": {
    "name": "ipython",
    "version": 3
   },
   "file_extension": ".py",
   "mimetype": "text/x-python",
   "name": "python",
   "nbconvert_exporter": "python",
   "pygments_lexer": "ipython3",
   "version": "3.11.3"
  }
 },
 "nbformat": 4,
 "nbformat_minor": 2
}
