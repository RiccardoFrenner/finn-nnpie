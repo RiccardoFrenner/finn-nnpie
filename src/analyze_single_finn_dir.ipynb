{
 "cells": [
  {
   "cell_type": "code",
   "execution_count": 254,
   "metadata": {},
   "outputs": [],
   "source": [
    "import json\n",
    "from pathlib import Path\n",
    "\n",
    "import numpy as np\n",
    "import pandas as pd\n",
    "import seaborn as sns\n",
    "import matplotlib.pyplot as plt\n",
    "\n",
    "import common"
   ]
  },
  {
   "cell_type": "code",
   "execution_count": 255,
   "metadata": {},
   "outputs": [],
   "source": [
    "finn_dir = Path(\"../data_out/langmuir/default_finn_251\")"
   ]
  },
  {
   "cell_type": "code",
   "execution_count": 256,
   "metadata": {},
   "outputs": [
    {
     "data": {
      "text/plain": [
       "{'y_train_path': 'data/FINN_forward_solver/retardation_langmuir/c_train.npy',\n",
       " 'output_dir': 'data_out/langmuir/default_finn_251',\n",
       " 'train_split_idx': 251,\n",
       " 'max_epochs': 100,\n",
       " 'seed': 87364854,\n",
       " 'c_field_seed': None,\n",
       " 'dropout': 0}"
      ]
     },
     "execution_count": 256,
     "metadata": {},
     "output_type": "execute_result"
    }
   ],
   "source": [
    "config = json.loads((finn_dir / \"input.json\").read_text())\n",
    "config"
   ]
  },
  {
   "cell_type": "code",
   "execution_count": 257,
   "metadata": {},
   "outputs": [
    {
     "data": {
      "text/plain": [
       "'langmuir'"
      ]
     },
     "execution_count": 257,
     "metadata": {},
     "output_type": "execute_result"
    }
   ],
   "source": [
    "analytical_retardation_type = Path(config[\"output_dir\"]).parts[1]\n",
    "analytical_retardation_type"
   ]
  },
  {
   "cell_type": "code",
   "execution_count": 258,
   "metadata": {},
   "outputs": [
    {
     "data": {
      "text/plain": [
       "(100, 1)"
      ]
     },
     "execution_count": 258,
     "metadata": {},
     "output_type": "execute_result"
    }
   ],
   "source": [
    "analytical_ret = np.load(finn_dir / f\"retardation_{analytical_retardation_type}.npy\")#.ravel()\n",
    "analytical_ret.shape"
   ]
  },
  {
   "cell_type": "code",
   "execution_count": 259,
   "metadata": {},
   "outputs": [
    {
     "data": {
      "text/plain": [
       "13"
      ]
     },
     "execution_count": 259,
     "metadata": {},
     "output_type": "execute_result"
    }
   ],
   "source": [
    "# loss_mse = np.loadtxt(finn_dir / \"loss_mse.txt\")\n",
    "# loss_phys = np.loadtxt(finn_dir / \"loss_phys.txt\")\n",
    "loss = np.loadtxt(finn_dir / \"loss.txt\")\n",
    "len(loss)"
   ]
  },
  {
   "cell_type": "code",
   "execution_count": 260,
   "metadata": {},
   "outputs": [],
   "source": [
    "file_df = {\n",
    "    \"loss\": [],\n",
    "    \"epoch\": [],\n",
    "    \"ret_path\": [],\n",
    "    \"c_train_pred_path\": [],\n",
    "}\n",
    "\n",
    "for epoch in range(1, len(loss) + 1):\n",
    "    file_df[\"loss\"].append(loss[epoch-1])\n",
    "    file_df[\"epoch\"].append(epoch)\n",
    "    ret_path = finn_dir / f\"predicted_retardations/retPred_{epoch}.npy\"\n",
    "    file_df[\"ret_path\"].append(ret_path if ret_path.exists() else None)\n",
    "    c_train_pred_path = finn_dir / f\"predicted_concentrations/c_pred_{epoch}.npy\"\n",
    "    file_df[\"c_train_pred_path\"].append(c_train_pred_path if c_train_pred_path.exists() else None)\n",
    "\n",
    "file_df = pd.DataFrame(file_df)"
   ]
  },
  {
   "cell_type": "markdown",
   "metadata": {},
   "source": [
    "## Compute MSE"
   ]
  },
  {
   "cell_type": "code",
   "execution_count": 261,
   "metadata": {},
   "outputs": [
    {
     "data": {
      "text/plain": [
       "loss                             float64\n",
       "epoch                              int64\n",
       "ret_path                          object\n",
       "c_train_pred_path                 object\n",
       "MSE(c_train_pred, c_train)       float32\n",
       "MSE(ret_pred, ret_analytical)    float32\n",
       "dtype: object"
      ]
     },
     "metadata": {},
     "output_type": "display_data"
    },
    {
     "data": {
      "text/plain": [
       "13"
      ]
     },
     "metadata": {},
     "output_type": "display_data"
    },
    {
     "data": {
      "text/html": [
       "<div>\n",
       "<style scoped>\n",
       "    .dataframe tbody tr th:only-of-type {\n",
       "        vertical-align: middle;\n",
       "    }\n",
       "\n",
       "    .dataframe tbody tr th {\n",
       "        vertical-align: top;\n",
       "    }\n",
       "\n",
       "    .dataframe thead th {\n",
       "        text-align: right;\n",
       "    }\n",
       "</style>\n",
       "<table border=\"1\" class=\"dataframe\">\n",
       "  <thead>\n",
       "    <tr style=\"text-align: right;\">\n",
       "      <th></th>\n",
       "      <th>loss</th>\n",
       "      <th>epoch</th>\n",
       "      <th>ret_path</th>\n",
       "      <th>c_train_pred_path</th>\n",
       "      <th>MSE(c_train_pred, c_train)</th>\n",
       "      <th>MSE(ret_pred, ret_analytical)</th>\n",
       "    </tr>\n",
       "  </thead>\n",
       "  <tbody>\n",
       "    <tr>\n",
       "      <th>0</th>\n",
       "      <td>37.519253</td>\n",
       "      <td>1</td>\n",
       "      <td>../data_out/langmuir/default_finn_251/predicte...</td>\n",
       "      <td>../data_out/langmuir/default_finn_251/predicte...</td>\n",
       "      <td>0.002830</td>\n",
       "      <td>0.861914</td>\n",
       "    </tr>\n",
       "    <tr>\n",
       "      <th>1</th>\n",
       "      <td>29.764467</td>\n",
       "      <td>2</td>\n",
       "      <td>../data_out/langmuir/default_finn_251/predicte...</td>\n",
       "      <td>../data_out/langmuir/default_finn_251/predicte...</td>\n",
       "      <td>0.002259</td>\n",
       "      <td>0.754300</td>\n",
       "    </tr>\n",
       "    <tr>\n",
       "      <th>2</th>\n",
       "      <td>13.047176</td>\n",
       "      <td>3</td>\n",
       "      <td>../data_out/langmuir/default_finn_251/predicte...</td>\n",
       "      <td>../data_out/langmuir/default_finn_251/predicte...</td>\n",
       "      <td>0.001000</td>\n",
       "      <td>0.296119</td>\n",
       "    </tr>\n",
       "    <tr>\n",
       "      <th>3</th>\n",
       "      <td>7.454958</td>\n",
       "      <td>4</td>\n",
       "      <td>../data_out/langmuir/default_finn_251/predicte...</td>\n",
       "      <td>../data_out/langmuir/default_finn_251/predicte...</td>\n",
       "      <td>0.000571</td>\n",
       "      <td>0.140837</td>\n",
       "    </tr>\n",
       "    <tr>\n",
       "      <th>4</th>\n",
       "      <td>7.447062</td>\n",
       "      <td>5</td>\n",
       "      <td>../data_out/langmuir/default_finn_251/predicte...</td>\n",
       "      <td>../data_out/langmuir/default_finn_251/predicte...</td>\n",
       "      <td>0.000571</td>\n",
       "      <td>0.140798</td>\n",
       "    </tr>\n",
       "  </tbody>\n",
       "</table>\n",
       "</div>"
      ],
      "text/plain": [
       "        loss  epoch                                           ret_path  \\\n",
       "0  37.519253      1  ../data_out/langmuir/default_finn_251/predicte...   \n",
       "1  29.764467      2  ../data_out/langmuir/default_finn_251/predicte...   \n",
       "2  13.047176      3  ../data_out/langmuir/default_finn_251/predicte...   \n",
       "3   7.454958      4  ../data_out/langmuir/default_finn_251/predicte...   \n",
       "4   7.447062      5  ../data_out/langmuir/default_finn_251/predicte...   \n",
       "\n",
       "                                   c_train_pred_path  \\\n",
       "0  ../data_out/langmuir/default_finn_251/predicte...   \n",
       "1  ../data_out/langmuir/default_finn_251/predicte...   \n",
       "2  ../data_out/langmuir/default_finn_251/predicte...   \n",
       "3  ../data_out/langmuir/default_finn_251/predicte...   \n",
       "4  ../data_out/langmuir/default_finn_251/predicte...   \n",
       "\n",
       "   MSE(c_train_pred, c_train)  MSE(ret_pred, ret_analytical)  \n",
       "0                    0.002830                       0.861914  \n",
       "1                    0.002259                       0.754300  \n",
       "2                    0.001000                       0.296119  \n",
       "3                    0.000571                       0.140837  \n",
       "4                    0.000571                       0.140798  "
      ]
     },
     "metadata": {},
     "output_type": "display_data"
    }
   ],
   "source": [
    "file_df[\"MSE(c_train_pred, c_train)\"] = file_df[\"c_train_pred_path\"].apply(\n",
    "    lambda p: np.square(np.load(p) - np.load(p.parent.parent / \"c_train.npy\")).mean()\n",
    ")\n",
    "file_df[\"MSE(ret_pred, ret_analytical)\"] = file_df[\"ret_path\"].apply(\n",
    "    lambda p: np.square(np.load(p) - analytical_ret).mean()\n",
    ")\n",
    "display(file_df.dtypes)\n",
    "display(len(file_df))\n",
    "display(file_df.head())\n",
    "# display(file_df)"
   ]
  },
  {
   "cell_type": "markdown",
   "metadata": {},
   "source": [
    "### MSE of full field"
   ]
  },
  {
   "cell_type": "code",
   "execution_count": 262,
   "metadata": {},
   "outputs": [
    {
     "ename": "FileNotFoundError",
     "evalue": "[Errno 2] No such file or directory: '../data_out/langmuir/default_finn_251/c_train_predictions.npy'",
     "output_type": "error",
     "traceback": [
      "\u001b[0;31m---------------------------------------------------------------------------\u001b[0m",
      "\u001b[0;31mFileNotFoundError\u001b[0m                         Traceback (most recent call last)",
      "Cell \u001b[0;32mIn[262], line 2\u001b[0m\n\u001b[1;32m      1\u001b[0m c_train \u001b[38;5;241m=\u001b[39m np\u001b[38;5;241m.\u001b[39mload(finn_dir \u001b[38;5;241m/\u001b[39m \u001b[38;5;124m\"\u001b[39m\u001b[38;5;124mc_train.npy\u001b[39m\u001b[38;5;124m\"\u001b[39m)\n\u001b[0;32m----> 2\u001b[0m c_train_pred \u001b[38;5;241m=\u001b[39m \u001b[43mnp\u001b[49m\u001b[38;5;241;43m.\u001b[39;49m\u001b[43mload\u001b[49m\u001b[43m(\u001b[49m\u001b[43mfinn_dir\u001b[49m\u001b[43m \u001b[49m\u001b[38;5;241;43m/\u001b[39;49m\u001b[43m \u001b[49m\u001b[38;5;124;43m\"\u001b[39;49m\u001b[38;5;124;43mc_train_predictions.npy\u001b[39;49m\u001b[38;5;124;43m\"\u001b[39;49m\u001b[43m)\u001b[49m\n\u001b[1;32m      3\u001b[0m c_full \u001b[38;5;241m=\u001b[39m np\u001b[38;5;241m.\u001b[39mload(finn_dir \u001b[38;5;241m/\u001b[39m \u001b[38;5;124m\"\u001b[39m\u001b[38;5;124mc_full.npy\u001b[39m\u001b[38;5;124m\"\u001b[39m)\n\u001b[1;32m      4\u001b[0m c_full_pred \u001b[38;5;241m=\u001b[39m np\u001b[38;5;241m.\u001b[39mload(finn_dir \u001b[38;5;241m/\u001b[39m \u001b[38;5;124m\"\u001b[39m\u001b[38;5;124mc_full_predictions.npy\u001b[39m\u001b[38;5;124m\"\u001b[39m)\n",
      "File \u001b[0;32m~/.venvs/p3inn/lib/python3.11/site-packages/numpy/lib/npyio.py:427\u001b[0m, in \u001b[0;36mload\u001b[0;34m(file, mmap_mode, allow_pickle, fix_imports, encoding, max_header_size)\u001b[0m\n\u001b[1;32m    425\u001b[0m     own_fid \u001b[38;5;241m=\u001b[39m \u001b[38;5;28;01mFalse\u001b[39;00m\n\u001b[1;32m    426\u001b[0m \u001b[38;5;28;01melse\u001b[39;00m:\n\u001b[0;32m--> 427\u001b[0m     fid \u001b[38;5;241m=\u001b[39m stack\u001b[38;5;241m.\u001b[39menter_context(\u001b[38;5;28mopen\u001b[39m(os_fspath(file), \u001b[38;5;124m\"\u001b[39m\u001b[38;5;124mrb\u001b[39m\u001b[38;5;124m\"\u001b[39m))\n\u001b[1;32m    428\u001b[0m     own_fid \u001b[38;5;241m=\u001b[39m \u001b[38;5;28;01mTrue\u001b[39;00m\n\u001b[1;32m    430\u001b[0m \u001b[38;5;66;03m# Code to distinguish from NumPy binary files and pickles.\u001b[39;00m\n",
      "\u001b[0;31mFileNotFoundError\u001b[0m: [Errno 2] No such file or directory: '../data_out/langmuir/default_finn_251/c_train_predictions.npy'"
     ]
    }
   ],
   "source": [
    "c_train = np.load(finn_dir / \"c_train.npy\")\n",
    "c_train_pred = np.load(finn_dir / \"c_train_predictions.npy\")\n",
    "c_full = np.load(finn_dir / \"c_full.npy\")\n",
    "c_full_pred = np.load(finn_dir / \"c_full_predictions.npy\")\n",
    "print(f\"MSE(c_train, c_train_pred) = {np.square(c_train - c_train_pred).mean():.2e}\")\n",
    "print(f\"MAE(c_train, c_train_pred) = {np.abs(c_train - c_train_pred).max():.2e}\")\n",
    "print(f\"MSE(c_full, c_full_pred) = {np.square(c_full - c_full_pred).mean():.2e}\")\n",
    "print(f\"MAE(c_full, c_full_pred) = {np.abs(c_full - c_full_pred).max():.2e}\")"
   ]
  },
  {
   "cell_type": "markdown",
   "metadata": {},
   "source": [
    "## Visualize Loss and MSE"
   ]
  },
  {
   "cell_type": "code",
   "execution_count": 263,
   "metadata": {},
   "outputs": [
    {
     "data": {
      "image/png": "[encoded data removed]",
      "text/plain": [
       "<Figure size 1200x600 with 2 Axes>"
      ]
     },
     "metadata": {},
     "output_type": "display_data"
    }
   ],
   "source": [
    "fig, (ax1, ax2) = plt.subplots(ncols=2, figsize=(12, 6))\n",
    "# ax.semilogy(loss_mse, label=\"MSE Loss\")\n",
    "# ax.semilogy(loss_phys, label=\"Physical Loss\")\n",
    "ax1.semilogy(file_df[\"loss\"], label=\"Total Loss\")\n",
    "ax1.semilogy(file_df[\"MSE(c_train_pred, c_train)\"], label=\"MSE\")\n",
    "ax1.vlines(10, 0, 1, color=\"k\", linestyle=\"--\")  # just a random marker\n",
    "ax1.hlines(1e-3, 0, len(loss), color=\"k\", linestyle=\"--\")  # just a random marker\n",
    "ax1.set_xlabel(\"Epoch\")\n",
    "ax1.set_ylabel(\"Loss\")\n",
    "\n",
    "ax2.semilogy(file_df[\"MSE(ret_pred, ret_analytical)\"], label=\"Retardation Error\")\n",
    "# ax2.semilogy(analytical_ret, label=analytical_retardation_type.capitalize())\n",
    "ax2.legend()\n",
    "plt.show()"
   ]
  },
  {
   "cell_type": "code",
   "execution_count": 264,
   "metadata": {},
   "outputs": [],
   "source": [
    "ret_df = file_df.copy()\n",
    "ret_df[\"ret\"] = ret_df[\"ret_path\"].apply(lambda p: np.load(p).ravel())\n",
    "ret_df = ret_df.explode(\"ret\").reset_index(drop=True)\n",
    "ret_df[\"u\"] = np.tile(np.arange(0, 100), len(file_df))\n",
    "ret_df[\"ret\"] = ret_df[\"ret\"].astype(np.float64)"
   ]
  },
  {
   "cell_type": "code",
   "execution_count": 265,
   "metadata": {},
   "outputs": [
    {
     "data": {
      "text/html": [
       "<div>\n",
       "<style scoped>\n",
       "    .dataframe tbody tr th:only-of-type {\n",
       "        vertical-align: middle;\n",
       "    }\n",
       "\n",
       "    .dataframe tbody tr th {\n",
       "        vertical-align: top;\n",
       "    }\n",
       "\n",
       "    .dataframe thead th {\n",
       "        text-align: right;\n",
       "    }\n",
       "</style>\n",
       "<table border=\"1\" class=\"dataframe\">\n",
       "  <thead>\n",
       "    <tr style=\"text-align: right;\">\n",
       "      <th></th>\n",
       "      <th>loss</th>\n",
       "      <th>epoch</th>\n",
       "      <th>ret_path</th>\n",
       "      <th>c_train_pred_path</th>\n",
       "      <th>MSE(c_train_pred, c_train)</th>\n",
       "      <th>MSE(ret_pred, ret_analytical)</th>\n",
       "      <th>ret</th>\n",
       "      <th>u</th>\n",
       "    </tr>\n",
       "  </thead>\n",
       "  <tbody>\n",
       "    <tr>\n",
       "      <th>0</th>\n",
       "      <td>3.751925e+01</td>\n",
       "      <td>1</td>\n",
       "      <td>../data_out/langmuir/default_finn_251/predicte...</td>\n",
       "      <td>../data_out/langmuir/default_finn_251/predicte...</td>\n",
       "      <td>0.00283</td>\n",
       "      <td>8.619137e-01</td>\n",
       "      <td>2.732227e+00</td>\n",
       "      <td>0</td>\n",
       "    </tr>\n",
       "    <tr>\n",
       "      <th>1</th>\n",
       "      <td>3.751925e+01</td>\n",
       "      <td>1</td>\n",
       "      <td>../data_out/langmuir/default_finn_251/predicte...</td>\n",
       "      <td>../data_out/langmuir/default_finn_251/predicte...</td>\n",
       "      <td>0.00283</td>\n",
       "      <td>8.619137e-01</td>\n",
       "      <td>2.732764e+00</td>\n",
       "      <td>1</td>\n",
       "    </tr>\n",
       "    <tr>\n",
       "      <th>2</th>\n",
       "      <td>3.751925e+01</td>\n",
       "      <td>1</td>\n",
       "      <td>../data_out/langmuir/default_finn_251/predicte...</td>\n",
       "      <td>../data_out/langmuir/default_finn_251/predicte...</td>\n",
       "      <td>0.00283</td>\n",
       "      <td>8.619137e-01</td>\n",
       "      <td>2.733301e+00</td>\n",
       "      <td>2</td>\n",
       "    </tr>\n",
       "    <tr>\n",
       "      <th>3</th>\n",
       "      <td>3.751925e+01</td>\n",
       "      <td>1</td>\n",
       "      <td>../data_out/langmuir/default_finn_251/predicte...</td>\n",
       "      <td>../data_out/langmuir/default_finn_251/predicte...</td>\n",
       "      <td>0.00283</td>\n",
       "      <td>8.619137e-01</td>\n",
       "      <td>2.733838e+00</td>\n",
       "      <td>3</td>\n",
       "    </tr>\n",
       "    <tr>\n",
       "      <th>4</th>\n",
       "      <td>3.751925e+01</td>\n",
       "      <td>1</td>\n",
       "      <td>../data_out/langmuir/default_finn_251/predicte...</td>\n",
       "      <td>../data_out/langmuir/default_finn_251/predicte...</td>\n",
       "      <td>0.00283</td>\n",
       "      <td>8.619137e-01</td>\n",
       "      <td>2.734373e+00</td>\n",
       "      <td>4</td>\n",
       "    </tr>\n",
       "    <tr>\n",
       "      <th>...</th>\n",
       "      <td>...</td>\n",
       "      <td>...</td>\n",
       "      <td>...</td>\n",
       "      <td>...</td>\n",
       "      <td>...</td>\n",
       "      <td>...</td>\n",
       "      <td>...</td>\n",
       "      <td>...</td>\n",
       "    </tr>\n",
       "    <tr>\n",
       "      <th>1295</th>\n",
       "      <td>4.739360e+09</td>\n",
       "      <td>13</td>\n",
       "      <td>../data_out/langmuir/default_finn_251/predicte...</td>\n",
       "      <td>../data_out/langmuir/default_finn_251/predicte...</td>\n",
       "      <td>363113.71875</td>\n",
       "      <td>4.696010e+25</td>\n",
       "      <td>2.246704e+12</td>\n",
       "      <td>95</td>\n",
       "    </tr>\n",
       "    <tr>\n",
       "      <th>1296</th>\n",
       "      <td>4.739360e+09</td>\n",
       "      <td>13</td>\n",
       "      <td>../data_out/langmuir/default_finn_251/predicte...</td>\n",
       "      <td>../data_out/langmuir/default_finn_251/predicte...</td>\n",
       "      <td>363113.71875</td>\n",
       "      <td>4.696010e+25</td>\n",
       "      <td>2.197012e+12</td>\n",
       "      <td>96</td>\n",
       "    </tr>\n",
       "    <tr>\n",
       "      <th>1297</th>\n",
       "      <td>4.739360e+09</td>\n",
       "      <td>13</td>\n",
       "      <td>../data_out/langmuir/default_finn_251/predicte...</td>\n",
       "      <td>../data_out/langmuir/default_finn_251/predicte...</td>\n",
       "      <td>363113.71875</td>\n",
       "      <td>4.696010e+25</td>\n",
       "      <td>2.149428e+12</td>\n",
       "      <td>97</td>\n",
       "    </tr>\n",
       "    <tr>\n",
       "      <th>1298</th>\n",
       "      <td>4.739360e+09</td>\n",
       "      <td>13</td>\n",
       "      <td>../data_out/langmuir/default_finn_251/predicte...</td>\n",
       "      <td>../data_out/langmuir/default_finn_251/predicte...</td>\n",
       "      <td>363113.71875</td>\n",
       "      <td>4.696010e+25</td>\n",
       "      <td>2.103614e+12</td>\n",
       "      <td>98</td>\n",
       "    </tr>\n",
       "    <tr>\n",
       "      <th>1299</th>\n",
       "      <td>4.739360e+09</td>\n",
       "      <td>13</td>\n",
       "      <td>../data_out/langmuir/default_finn_251/predicte...</td>\n",
       "      <td>../data_out/langmuir/default_finn_251/predicte...</td>\n",
       "      <td>363113.71875</td>\n",
       "      <td>4.696010e+25</td>\n",
       "      <td>2.059427e+12</td>\n",
       "      <td>99</td>\n",
       "    </tr>\n",
       "  </tbody>\n",
       "</table>\n",
       "<p>1300 rows × 8 columns</p>\n",
       "</div>"
      ],
      "text/plain": [
       "              loss  epoch                                           ret_path  \\\n",
       "0     3.751925e+01      1  ../data_out/langmuir/default_finn_251/predicte...   \n",
       "1     3.751925e+01      1  ../data_out/langmuir/default_finn_251/predicte...   \n",
       "2     3.751925e+01      1  ../data_out/langmuir/default_finn_251/predicte...   \n",
       "3     3.751925e+01      1  ../data_out/langmuir/default_finn_251/predicte...   \n",
       "4     3.751925e+01      1  ../data_out/langmuir/default_finn_251/predicte...   \n",
       "...            ...    ...                                                ...   \n",
       "1295  4.739360e+09     13  ../data_out/langmuir/default_finn_251/predicte...   \n",
       "1296  4.739360e+09     13  ../data_out/langmuir/default_finn_251/predicte...   \n",
       "1297  4.739360e+09     13  ../data_out/langmuir/default_finn_251/predicte...   \n",
       "1298  4.739360e+09     13  ../data_out/langmuir/default_finn_251/predicte...   \n",
       "1299  4.739360e+09     13  ../data_out/langmuir/default_finn_251/predicte...   \n",
       "\n",
       "                                      c_train_pred_path  \\\n",
       "0     ../data_out/langmuir/default_finn_251/predicte...   \n",
       "1     ../data_out/langmuir/default_finn_251/predicte...   \n",
       "2     ../data_out/langmuir/default_finn_251/predicte...   \n",
       "3     ../data_out/langmuir/default_finn_251/predicte...   \n",
       "4     ../data_out/langmuir/default_finn_251/predicte...   \n",
       "...                                                 ...   \n",
       "1295  ../data_out/langmuir/default_finn_251/predicte...   \n",
       "1296  ../data_out/langmuir/default_finn_251/predicte...   \n",
       "1297  ../data_out/langmuir/default_finn_251/predicte...   \n",
       "1298  ../data_out/langmuir/default_finn_251/predicte...   \n",
       "1299  ../data_out/langmuir/default_finn_251/predicte...   \n",
       "\n",
       "      MSE(c_train_pred, c_train)  MSE(ret_pred, ret_analytical)           ret  \\\n",
       "0                        0.00283                   8.619137e-01  2.732227e+00   \n",
       "1                        0.00283                   8.619137e-01  2.732764e+00   \n",
       "2                        0.00283                   8.619137e-01  2.733301e+00   \n",
       "3                        0.00283                   8.619137e-01  2.733838e+00   \n",
       "4                        0.00283                   8.619137e-01  2.734373e+00   \n",
       "...                          ...                            ...           ...   \n",
       "1295                363113.71875                   4.696010e+25  2.246704e+12   \n",
       "1296                363113.71875                   4.696010e+25  2.197012e+12   \n",
       "1297                363113.71875                   4.696010e+25  2.149428e+12   \n",
       "1298                363113.71875                   4.696010e+25  2.103614e+12   \n",
       "1299                363113.71875                   4.696010e+25  2.059427e+12   \n",
       "\n",
       "       u  \n",
       "0      0  \n",
       "1      1  \n",
       "2      2  \n",
       "3      3  \n",
       "4      4  \n",
       "...   ..  \n",
       "1295  95  \n",
       "1296  96  \n",
       "1297  97  \n",
       "1298  98  \n",
       "1299  99  \n",
       "\n",
       "[1300 rows x 8 columns]"
      ]
     },
     "execution_count": 265,
     "metadata": {},
     "output_type": "execute_result"
    }
   ],
   "source": [
    "ret_df"
   ]
  },
  {
   "cell_type": "code",
   "execution_count": 266,
   "metadata": {},
   "outputs": [],
   "source": [
    "ret_df[\"loss_split\"] = [\"left\" if loss < 1e-2 else \"right\" for loss in ret_df[\"loss\"]]"
   ]
  },
  {
   "cell_type": "code",
   "execution_count": 267,
   "metadata": {},
   "outputs": [
    {
     "data": {
      "image/png": "[encoded data removed]",
      "text/plain": [
       "<Figure size 637.75x500 with 1 Axes>"
      ]
     },
     "metadata": {},
     "output_type": "display_data"
    }
   ],
   "source": [
    "g = sns.relplot(\n",
    "    data=ret_df,\n",
    "    kind=\"line\",\n",
    "    x=\"u\",\n",
    "    y=\"ret\",\n",
    "    hue=\"loss\",\n",
    "    col=\"loss_split\",\n",
    ")\n",
    "\n",
    "for ax in g.axes.flat:\n",
    "    ax.plot(analytical_ret, \"k--\")\n",
    "    if analytical_retardation_type == \"freundlich\":\n",
    "        ax.set_ylim(3, 5)\n",
    "plt.show()"
   ]
  },
  {
   "cell_type": "code",
   "execution_count": null,
   "metadata": {},
   "outputs": [],
   "source": []
  }
 ],
 "metadata": {
  "kernelspec": {
   "display_name": "p3inn",
   "language": "python",
   "name": "python3"
  },
  "language_info": {
   "codemirror_mode": {
    "name": "ipython",
    "version": 3
   },
   "file_extension": ".py",
   "mimetype": "text/x-python",
   "name": "python",
   "nbconvert_exporter": "python",
   "pygments_lexer": "ipython3",
   "version": "3.11.3"
  }
 },
 "nbformat": 4,
 "nbformat_minor": 2
}
