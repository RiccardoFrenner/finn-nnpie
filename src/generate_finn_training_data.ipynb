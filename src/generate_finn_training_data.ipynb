{
 "cells": [
  {
   "cell_type": "code",
   "execution_count": 1,
   "metadata": {},
   "outputs": [],
   "source": [
    "import random\n",
    "import itertools\n",
    "from pathlib import Path\n",
    "\n",
    "import torch\n",
    "import numpy as np\n",
    "\n",
    "import params\n",
    "from common import AnalyticRetardation, ConcentrationPredictor"
   ]
  },
  {
   "cell_type": "code",
   "execution_count": 2,
   "metadata": {},
   "outputs": [],
   "source": [
    "cfg = params.Parameters()\n",
    "WRITE_DATA = True"
   ]
  },
  {
   "cell_type": "code",
   "execution_count": 3,
   "metadata": {},
   "outputs": [],
   "source": [
    "def interpolate(y, xmin, xmax, x):\n",
    "    y = y.reshape(-1)\n",
    "    x = x.reshape(-1)\n",
    "\n",
    "    n = len(y) - 1  # number of intervals\n",
    "    x_points = torch.linspace(xmin, xmax, n + 1)\n",
    "    dx = (xmax - xmin) / n\n",
    "\n",
    "    # Calculate the index of the interval\n",
    "    i = torch.clip(((x - xmin) / dx).to(int), 0, n - 1)\n",
    "\n",
    "    # Perform linear interpolation using broadcasting\n",
    "    y_interp = y[i] + (y[i + 1] - y[i]) * (x - x_points[i]) / dx\n",
    "\n",
    "    return y_interp.reshape(-1, 1, 1)"
   ]
  },
  {
   "cell_type": "code",
   "execution_count": 4,
   "metadata": {},
   "outputs": [],
   "source": [
    "def mse(a, b):\n",
    "    return np.mean((a - b) ** 2)\n",
    "\n",
    "\n",
    "def max_abs_err(a, b):\n",
    "    return np.max(np.abs(a - b))"
   ]
  },
  {
   "cell_type": "code",
   "execution_count": 5,
   "metadata": {},
   "outputs": [
    {
     "name": "stdout",
     "output_type": "stream",
     "text": [
      "Computing...\n",
      "Finished computing\n",
      "(2001, 2, 26, 1)\n"
     ]
    }
   ],
   "source": [
    "seed = 12345\n",
    "torch.manual_seed(seed)\n",
    "torch.cuda.manual_seed_all(seed)\n",
    "random.seed(seed)\n",
    "np.random.seed(seed)\n",
    "\n",
    "ret_fun_name = \"langmuir\"\n",
    "# ret_fun_name = \"../data_out/FINN_forward_tests/finn_langmuir_github_c/predicted_retardations/retPred_100.npy\"\n",
    "\n",
    "\n",
    "def get_ret_inv_fun():\n",
    "    if ret_fun_name == \"freundlich\":\n",
    "\n",
    "        def fun(c):\n",
    "            return AnalyticRetardation.freundlich(\n",
    "                c, por=cfg.por, rho_s=cfg.rho_s, Kf=cfg.Kf, nf=cfg.nf\n",
    "            )\n",
    "    elif ret_fun_name == \"linear\":\n",
    "\n",
    "        def fun(c):\n",
    "            return AnalyticRetardation.linear(\n",
    "                c, por=cfg.por, rho_s=cfg.rho_s, Kd=cfg.Kd\n",
    "            )\n",
    "    elif ret_fun_name == \"langmuir\":\n",
    "\n",
    "        def fun(c):\n",
    "            return AnalyticRetardation.langmuir(\n",
    "                c, por=cfg.por, rho_s=cfg.rho_s, smax=cfg.smax, Kl=cfg.Kl\n",
    "            )\n",
    "    else:\n",
    "\n",
    "        def fun(c):\n",
    "            return interpolate(torch.from_numpy(np.load(ret_fun_name)), 0, 1, c)\n",
    "\n",
    "    return lambda c: 1.0 / fun(c)\n",
    "\n",
    "\n",
    "ret_inv_fun = get_ret_inv_fun()\n",
    "\n",
    "u0 = torch.zeros(size=(2, cfg.Nx, 1))\n",
    "model = ConcentrationPredictor(\n",
    "    u0=u0,\n",
    "    cfg=cfg,\n",
    "    ret_inv_funs=[ret_inv_fun, None],\n",
    ")\n",
    "\n",
    "t = torch.linspace(0.0, cfg.T, cfg.Nt)\n",
    "print(\"Computing...\")\n",
    "model.eval()\n",
    "c = model(t)\n",
    "c = c.detach().numpy()\n",
    "print(\"Finished computing\")\n",
    "print(c.shape)"
   ]
  },
  {
   "cell_type": "code",
   "execution_count": 6,
   "metadata": {},
   "outputs": [
    {
     "name": "stdout",
     "output_type": "stream",
     "text": [
      "Ret. Max abs error: 0.00e+00\n",
      "Ret. MSE: 0.00e+00\n"
     ]
    }
   ],
   "source": [
    "u_ret = torch.linspace(0.0, 1.0, 100)\n",
    "ret_from_model = model.retardation(u_ret).detach().numpy()\n",
    "ret_from_function = (1.0 / ret_inv_fun(u_ret)).detach().numpy()\n",
    "\n",
    "print(f\"Ret. Max abs error: {max_abs_err(ret_from_model, ret_from_function):.2e}\")\n",
    "print(f\"Ret. MSE: {mse(ret_from_model, ret_from_function):.2e}\")"
   ]
  },
  {
   "cell_type": "code",
   "execution_count": 7,
   "metadata": {},
   "outputs": [],
   "source": [
    "assert np.allclose(ret_from_model, ret_from_function)\n",
    "\n",
    "out_path = Path(f\"../data/FINN_forward_solver/retardation_{ret_fun_name}/c_train.npy\")\n",
    "out_path.parent.mkdir(parents=True, exist_ok=True)\n",
    "if WRITE_DATA:\n",
    "    print(f\"Saving to {out_path}\")\n",
    "    np.save(out_path, c[..., 0])  # remove the last dimension"
   ]
  },
  {
   "cell_type": "code",
   "execution_count": 9,
   "metadata": {},
   "outputs": [
    {
     "name": "stdout",
     "output_type": "stream",
     "text": [
      "(51, 2, 26, 1)\n",
      "(51, 2, 26, 1)\n",
      "(51, 2, 26, 1)\n",
      "(51, 2, 26, 1)\n"
     ]
    }
   ],
   "source": [
    "c_train = np.load(\"../data_out_github_c/FINN_forward_tests/finn_langmuir_github_c/c_train.npy\")\n",
    "c_pred = np.load(\n",
    "    \"../data_out_github_c/FINN_forward_tests/finn_langmuir_github_c/c_full_predictions.npy\"\n",
    ")\n",
    "c_langmuir_github = np.load(\"../data/synthetic_data/retardation_langmuir/c_train.npy\")[\n",
    "    :c_train.shape[0], ..., None\n",
    "]\n",
    "c_langmuir_FINN = np.load(\n",
    "    \"../data/FINN_forward_solver/retardation_langmuir/c_train.npy\"\n",
    ")[:c_train.shape[0], ..., None]\n",
    "\n",
    "print(c_train.shape)\n",
    "print(c_pred.shape)\n",
    "print(c_langmuir_github.shape)\n",
    "print(c_langmuir_FINN.shape)"
   ]
  },
  {
   "cell_type": "markdown",
   "metadata": {},
   "source": [
    "Was ich weiß:\n",
    "- MSE(c_pred, c_train) ist klein.\n",
    "- c_train == c_langmuir_github\n",
    "\n",
    "Was ich wissen will:\n",
    "- [x] Ist c == c_pred? (Dann ist auch mse(c, c_train) == mse(c_pred, c_train))\n",
    "    - Leider nein. Das heißt, dass da irgendwas falsch läuft beim FINN forward code.\n",
    "        - [x] Ist es die Interpolation?\n",
    "            - Habe ich getestet, indem ich langmuir auch mit linearer Interpolation berechne und den Unterschied zwischen dem normalen anschaue. Die Antwort ist: MSE ist kleiner als 1e-11, max abs err < 1e-5. Fazit: Es ist nicht die Interpolation."
   ]
  },
  {
   "cell_type": "code",
   "execution_count": 10,
   "metadata": {},
   "outputs": [
    {
     "name": "stdout",
     "output_type": "stream",
     "text": [
      "                   c | c_train             : 1.80e-01, 1.97e+00\n",
      "                   c | c_pred              : 1.80e-01, 1.97e+00\n",
      "                   c | c_langmuir_github   : 1.80e-01, 1.97e+00\n",
      "                   c | c_langmuir_FINN     : 0.00e+00, 0.00e+00\n",
      "             c_train | c_pred              : 7.38e-07, 4.16e-03\n",
      "             c_train | c_langmuir_github   : 2.93e-17, 2.97e-08\n",
      "             c_train | c_langmuir_FINN     : 1.80e-01, 1.97e+00\n",
      "              c_pred | c_langmuir_github   : 7.38e-07, 4.16e-03\n",
      "              c_pred | c_langmuir_FINN     : 1.80e-01, 1.97e+00\n",
      "   c_langmuir_github | c_langmuir_FINN     : 1.80e-01, 1.97e+00\n"
     ]
    }
   ],
   "source": [
    "cs = {\n",
    "    \"c\": c[:c_train.shape[0], ...],\n",
    "    \"c_train\": c_train,\n",
    "    \"c_pred\": c_pred,\n",
    "    \"c_langmuir_github\": c_langmuir_github,\n",
    "    \"c_langmuir_FINN\": c_langmuir_FINN,\n",
    "}\n",
    "# iter pairwise, compute mse and print names\n",
    "for i, j in itertools.combinations(cs.keys(), 2):\n",
    "    print(\n",
    "        f\"{i:>20} | {j:<20}: {mse(cs[i], cs[j]):.2e}, {max_abs_err(cs[i], cs[j]):.2e}\"\n",
    "    )"
   ]
  }
 ],
 "metadata": {
  "kernelspec": {
   "display_name": "p3inn",
   "language": "python",
   "name": "python3"
  },
  "language_info": {
   "codemirror_mode": {
    "name": "ipython",
    "version": 3
   },
   "file_extension": ".py",
   "mimetype": "text/x-python",
   "name": "python",
   "nbconvert_exporter": "python",
   "pygments_lexer": "ipython3",
   "version": "3.11.3"
  }
 },
 "nbformat": 4,
 "nbformat_minor": 2
}
